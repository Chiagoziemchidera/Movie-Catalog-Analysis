{
 "cells": [
  {
   "cell_type": "code",
   "execution_count": 1,
   "id": "6ec8af54",
   "metadata": {},
   "outputs": [],
   "source": [
    "import pandas as pd\n",
    "import re\n",
    "import chardet"
   ]
  },
  {
   "cell_type": "code",
   "execution_count": 2,
   "id": "27a77463",
   "metadata": {},
   "outputs": [
    {
     "name": "stdout",
     "output_type": "stream",
     "text": [
      "\n",
      " Number of Rows: 8807\n",
      " Number of Columns: 12\n",
      "\n",
      " Column Headers:\n",
      "['show_id', 'type', 'title', 'director', 'cast', 'country', 'date_added', 'release_year', 'rating', 'duration', 'listed_in', 'description']\n",
      "\n",
      " Data Types:\n",
      "show_id         object\n",
      "type            object\n",
      "title           object\n",
      "director        object\n",
      "cast            object\n",
      "country         object\n",
      "date_added      object\n",
      "release_year     int64\n",
      "rating          object\n",
      "duration        object\n",
      "listed_in       object\n",
      "description     object\n",
      "dtype: object\n",
      "\n",
      " Missing Values Analysis:\n",
      "            Missing Count  Missing %\n",
      "director             2634      29.91\n",
      "cast                  825       9.37\n",
      "country               831       9.44\n",
      "date_added             10       0.11\n",
      "rating                  7       0.08\n"
     ]
    }
   ],
   "source": [
    "# Load the dataset\n",
    "df = pd.read_excel(\"netflix_titles.xlsx\")  \n",
    "\n",
    "# Number of rows and columns\n",
    "num_rows, num_cols = df.shape\n",
    "print(f\"\\n Number of Rows: {num_rows}\")\n",
    "print(f\" Number of Columns: {num_cols}\")\n",
    "\n",
    "# Column headers\n",
    "print(\"\\n Column Headers:\")\n",
    "print(df.columns.tolist())\n",
    "\n",
    "# Data types of each column\n",
    "print(\"\\n Data Types:\")\n",
    "print(df.dtypes)\n",
    "\n",
    "# Missing values count and percentage\n",
    "print(\"\\n Missing Values Analysis:\")\n",
    "missing_counts = df.isnull().sum()\n",
    "missing_percentages = (missing_counts / num_rows * 100).round(2)\n",
    "missing_df = pd.DataFrame({\n",
    "    'Missing Count': missing_counts,\n",
    "    'Missing %': missing_percentages\n",
    "})\n",
    "print(missing_df[missing_df['Missing Count'] > 0])\n"
   ]
  },
  {
   "cell_type": "code",
   "execution_count": 3,
   "id": "0b3db5b1",
   "metadata": {},
   "outputs": [],
   "source": [
    "def fix_mojibake(text):\n",
    "    if pd.isnull(text):\n",
    "        return text\n",
    "    if not isinstance(text, str):\n",
    "        return text\n",
    "\n",
    "    try:\n",
    "        # Encode as bytes (assume current is mis-decoded Latin-1)\n",
    "        raw_bytes = text.encode('latin1', errors='ignore')\n",
    "        # Decode properly to UTF-8\n",
    "        fixed = raw_bytes.decode('utf-8', errors='ignore')\n",
    "        return fixed\n",
    "    except Exception:\n",
    "        return text\n",
    "\n",
    "def clean_text(val):\n",
    "    if pd.isnull(val):\n",
    "        return val\n",
    "    if not isinstance(val, str):\n",
    "        val = str(val)\n",
    "\n",
    "    val = fix_mojibake(val)\n",
    "\n",
    "    # Normalize text and remove invisible/extra characters\n",
    "    val = re.sub(r'[\\r\\n\\t\\xa0]', ' ', val)  # remove newlines, tabs, non-breaking spaces\n",
    "    val = re.sub(' +', ' ', val).strip()     # remove extra spaces\n",
    "\n",
    "    return val\n",
    "\n",
    "# Load Excel file\n",
    "df = pd.read_excel(\"netflix_titles.xlsx\")\n",
    "\n",
    "# Clean all object-type columns\n",
    "for col in df.columns:\n",
    "    if df[col].dtype == \"object\":\n",
    "        df[col] = df[col].apply(clean_text)\n",
    "\n"
   ]
  },
  {
   "cell_type": "code",
   "execution_count": 4,
   "id": "2989663a",
   "metadata": {},
   "outputs": [
    {
     "name": "stdout",
     "output_type": "stream",
     "text": [
      "saved\n"
     ]
    }
   ],
   "source": [
    "# Save cleaned dataset for inspection\n",
    "df.to_excel(\"netflix_clean.xlsx\", index=False)\n",
    "print(\"saved\")"
   ]
  },
  {
   "cell_type": "code",
   "execution_count": 5,
   "id": "417f09c3",
   "metadata": {},
   "outputs": [],
   "source": [
    "# Remove duplicate rows based on the \"title\" column\n",
    "df_deduplicated = df.drop_duplicates(subset=[\"title\", \"release_year\"])"
   ]
  },
  {
   "cell_type": "code",
   "execution_count": 6,
   "id": "e39c0634",
   "metadata": {},
   "outputs": [
    {
     "name": "stdout",
     "output_type": "stream",
     "text": [
      "Rows after removing duplicates: 8803\n",
      "Number of duplicate rows removed: 4\n"
     ]
    }
   ],
   "source": [
    "# Total original rows\n",
    "original_count = len(df)\n",
    "\n",
    "# Deduplicated rows\n",
    "deduplicated_count = len(df_deduplicated)\n",
    "\n",
    "# Number of duplicate rows removed\n",
    "duplicates_removed = original_count - deduplicated_count\n",
    "\n",
    "print(f\"Rows after removing duplicates: {deduplicated_count}\")\n",
    "print(f\"Number of duplicate rows removed: {duplicates_removed}\")"
   ]
  },
  {
   "cell_type": "code",
   "execution_count": 7,
   "id": "1eb1b926",
   "metadata": {},
   "outputs": [],
   "source": [
    "df_clean = df_deduplicated"
   ]
  },
  {
   "cell_type": "code",
   "execution_count": 8,
   "id": "7ba6e83d",
   "metadata": {},
   "outputs": [
    {
     "name": "stdout",
     "output_type": "stream",
     "text": [
      "\n",
      "Missing Values Analysis:\n",
      "            Missing Count  Missing %\n",
      "director             2633      29.91\n",
      "cast                  825       9.37\n",
      "country               830       9.43\n",
      "date_added             10       0.11\n",
      "rating                  7       0.08\n"
     ]
    }
   ],
   "source": [
    "# Missing values count and percentage\n",
    "print(\"\\nMissing Values Analysis:\")\n",
    "num_rows = len(df_clean)\n",
    "missing_counts = df_clean.isnull().sum()\n",
    "missing_percentages = (missing_counts / num_rows * 100).round(2)\n",
    "missing_df = pd.DataFrame({\n",
    "    'Missing Count': missing_counts,\n",
    "    'Missing %': missing_percentages\n",
    "})\n",
    "print(missing_df[missing_df['Missing Count'] > 0])"
   ]
  },
  {
   "cell_type": "code",
   "execution_count": 10,
   "id": "327392ad",
   "metadata": {},
   "outputs": [
    {
     "name": "stdout",
     "output_type": "stream",
     "text": [
      "saved!\n"
     ]
    }
   ],
   "source": [
    "df_clean = df_clean.copy()\n",
    "\n",
    "# Fill missing values safely\n",
    "df_clean.loc[:, ['director', 'cast', 'country', 'rating']] = df_clean[['director', 'cast', 'country', 'rating']].fillna('Unknown')\n",
    "\n",
    "# Save cleaned data\n",
    "df_clean.to_excel(\"netflix_fully_cleaned.xlsx\", index=False)\n",
    "print(\"saved!\")"
   ]
  },
  {
   "cell_type": "code",
   "execution_count": 11,
   "id": "4fe849bc",
   "metadata": {},
   "outputs": [],
   "source": [
    "# Explode Genre (listed_in) for power bi model\n",
    "df_clean['listed_in'] = df_clean['listed_in'].fillna('').apply(lambda x: [i.strip() for i in x.split(',') if i.strip()])\n",
    "genre_df = df_clean.explode('listed_in')\n",
    "\n",
    "#  Explode Cast for power bi model\n",
    "df_clean['cast'] = df_clean['cast'].fillna('').apply(lambda x: [i.strip() for i in x.split(',') if i.strip()])\n",
    "cast_df = df_clean.explode('cast')\n",
    "\n",
    "# Explode Director for power bi model\n",
    "df_clean['director'] = df_clean['director'].fillna('').apply(lambda x: [i.strip() for i in x.split(',') if i.strip()])\n",
    "director_df = df_clean.explode('director')\n",
    "\n",
    "# Explode Country for power bi model\n",
    "df_clean['country'] = df_clean['country'].fillna('').apply(lambda x: [i.strip() for i in x.split(',') if i.strip()])\n",
    "country_df = df_clean.explode('country')\n",
    "\n",
    "# Export each exploded dataset separately for Power BI\n",
    "genre_df.to_excel(\"netflix_by_genre.xlsx\", index=False)\n",
    "cast_df.to_excel(\"netflix_by_cast.xlsx\", index=False)\n",
    "director_df.to_excel(\"netflix_by_director.xlsx\", index=False)\n",
    "country_df.to_excel(\"netflix_by_country.xlsx\", index=False)"
   ]
  },
  {
   "cell_type": "code",
   "execution_count": null,
   "id": "75c01938",
   "metadata": {},
   "outputs": [],
   "source": []
  }
 ],
 "metadata": {
  "kernelspec": {
   "display_name": "Python 3 (ipykernel)",
   "language": "python",
   "name": "python3"
  },
  "language_info": {
   "codemirror_mode": {
    "name": "ipython",
    "version": 3
   },
   "file_extension": ".py",
   "mimetype": "text/x-python",
   "name": "python",
   "nbconvert_exporter": "python",
   "pygments_lexer": "ipython3",
   "version": "3.9.13"
  }
 },
 "nbformat": 4,
 "nbformat_minor": 5
}
